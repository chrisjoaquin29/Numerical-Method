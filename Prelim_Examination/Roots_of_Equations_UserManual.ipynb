{
  "nbformat": 4,
  "nbformat_minor": 0,
  "metadata": {
    "colab": {
      "name": "Roots_of_Equations_UserManual.ipynb",
      "provenance": [],
      "collapsed_sections": []
    },
    "kernelspec": {
      "name": "python3",
      "display_name": "Python 3"
    }
  },
  "cells": [
    {
      "cell_type": "markdown",
      "metadata": {
        "id": "t7EcfoXjmZLs"
      },
      "source": [
        "# Roots of Equations: User Manual\r\n",
        "\r\n",
        "*submitted by:*\r\n",
        "\r\n",
        "Aquiro, Freddielyn E.\r\n",
        "\r\n",
        "Canoza, Cherrylyn\r\n",
        "\r\n",
        "Joaquin, Christopher Marc "
      ]
    },
    {
      "cell_type": "markdown",
      "metadata": {
        "id": "ncsOQceHpBLC"
      },
      "source": [
        "####Note: \r\n",
        " This user manual will be used to understand on how to use the module and import the package. The modules contains functions on how to find a single root and n number of roots. The user will provide a equation in getting the results."
      ]
    },
    {
      "cell_type": "markdown",
      "metadata": {
        "id": "es-3EyQEmoke"
      },
      "source": [
        "# Methods\r\n",
        "1. Simple Iterations Method (Brute Force)\r\n",
        "2. Newton-Rhapson Method\r\n",
        "3. Bisection Method\r\n",
        "4. Regula Falsi Method \r\n",
        "5. Secant Method\r\n",
        "\r\n"
      ]
    },
    {
      "cell_type": "markdown",
      "metadata": {
        "id": "t_4GjVXJoOh5"
      },
      "source": [
        "# Definitions\r\n",
        "### Finding Roots of Polynomials\r\n",
        "A polynomial function is a function that can be expressed in the form of a polynomial.[[1]](https://byjus.com/maths/polynomial-functions/) Every value given in its function has a corresponding degree, which so-called *order*. The target of this program is to find the roots even there are tons of given value in a polynomial function. Thus, the programmer will give two examples in with different orders: <br>\r\n",
        "First given: $$F(x)=5x^4+10x^3-75x^2$$ <br>\r\n",
        "Second given: $$F(x)=-3x^5-12x^4-12x^3$$ <br>\r\n",
        "\r\n",
        "The formula that the progammer will provide is factorization.\r\n",
        "1. Get the GCF. <br>\r\n",
        "2. Factor out. <br>\r\n",
        "3. Transposition <br>"
      ]
    },
    {
      "cell_type": "markdown",
      "metadata": {
        "id": "m0pPyFMhqktZ"
      },
      "source": [
        "## Transcendental function\r\n",
        "Transcendental function is a term that refers to the ability to transcend one' A function that can't be expressed as a finite combination of the algebraic operations of addition, subtraction, multiplication, division, raising to a power, and extracting a root in mathematics. The functions log x, sin x, cos x, ex, and any functions containing them are examples. In algebraic terms, such functions can only be expressed as infinite sequence. [[2]](https://www.britannica.com/science/transcendental-function)\r\n",
        "\r\n",
        "First given:$$f(x)=sin(x) x cos(x)$$ <br>\r\n",
        "            $$g(x)=cos(x)cos(x) x sin(x)$$ <br>\r\n",
        "Second given: $$f(x)=2sinx $$ <br>\r\n",
        "              $$g(x)=2cosx$$ <br>"
      ]
    },
    {
      "cell_type": "markdown",
      "metadata": {
        "id": "Uo5up1Mmoe46"
      },
      "source": [
        "### Simple iteration (Brute Force)\r\n",
        "This method is used as the easiest way to compute the eqaution and it will utlilize iterations or looping statements. Brute force are rarely used because its method are straight-forward in solving equations which it rely on the sheer computing power that tries every possibile answers than advanced techniques in improving its efficiency. [[3]](https://www.freecodecamp.org/news/brute-force-algorithms-explained/ )"
      ]
    },
    {
      "cell_type": "markdown",
      "metadata": {
        "id": "nyvsChYaofw6"
      },
      "source": [
        "### Newton-Rhapson Method\r\n",
        "This method is another way in roots finding that uses linear approximation which is similiar to brute force but it it uses an updated functions. [[4]](https://www.math.ubc.ca/~pwalls/math-python/roots-optimization/newton/)"
      ]
    },
    {
      "cell_type": "markdown",
      "metadata": {
        "id": "VskdPptXojJ6"
      },
      "source": [
        "### Bisection Method\r\n",
        "The bisection method is used to find the roots of a polynomial equation. It separates the interval and subdivides the interval in which the root of the equation lies. The principle behind this method is the intermediate theorem for continuous functions. It works by narrowing the gap between the positive and negative intervals until it closes in on the correct answer. [[5]](https://byjus.com/maths/bisection-method/)"
      ]
    },
    {
      "cell_type": "markdown",
      "metadata": {
        "id": "26YY8kSqo0wa"
      },
      "source": [
        "### Regula Falsi Method\r\n",
        " It is also known as *method of false position*, it is a numerical method for solving an equation in one unknown. It is quite similar to bisection method algorithm and is one of the oldest approaches. It was developed because the bisection method converges at a fairly slow speed. In simple terms, the method is the trial and error technique of using test (\"false\") values for the variable and then adjusting the test value according to the outcome. [[6]](https://iq.opengenus.org/regula-falsi-method/)"
      ]
    },
    {
      "cell_type": "markdown",
      "metadata": {
        "id": "UNkFAfObo656"
      },
      "source": [
        "###Secant Method\r\n",
        "The secant method is very similar to the bisection method except instead of dividing each interval by choosing the midpoint the secant method divides each interval by the secant line connecting the endpoints. [[7]](https://www.math.ubc.ca/~pwalls/math-python/roots-optimization/secant/)"
      ]
    },
    {
      "cell_type": "markdown",
      "metadata": {
        "id": "Hb7z9ls_nXUi"
      },
      "source": [
        "# For activity 2.1 included in the laboratory"
      ]
    },
    {
      "cell_type": "code",
      "metadata": {
        "id": "bsteXgAgoDJ8"
      },
      "source": [
        "###For the actitivity 2.1 Finding The Roots of Polynomials and Transcedental \r\n",
        "#Function for finding roots in Polynomials.\r\n",
        "import numpy as np\r\n",
        "from numpy.polynomial import Polynomial as npoly\r\n",
        "import matplotlib.pyplot as plt \r\n",
        "\r\n",
        "def f(x):\r\n",
        "  for i in range(len(x)): ###Getting the list given by the user.\r\n",
        "    x[i] = float(x[i]) #For calling purposes\r\n",
        "  p=npoly(x) ###Finding coefficients with the given roots.\r\n",
        "  xzeros=p.roots() ### return the roots of a polynomial with coefficients given.\r\n",
        "  for i in range (len(xzeros)): ###Getting all the roots.\r\n",
        "    print(\"x=\",xzeros[i]) ###Printing roots.\r\n",
        "###Graphing\r\n",
        "  x=np.linspace(xzeros[0]-1,xzeros[-1]+1,100) ###for locating the value in x axis\r\n",
        "  y=p(x) ###for locating the value in y axis\r\n",
        "  fig, ax=plt.subplots() ###Creating Figures\r\n",
        "  ax.plot(x,y,'r', label= 'f(x)') ###For plotting\r\n",
        "  ax.plot(xzeros,p(xzeros),'go', label='Roots') ###For plotting\r\n",
        "  ax.legend(loc='best') ### for legend\r\n",
        "  ax.grid()\r\n",
        "  plt.xlabel('x') ###Label in x axis\r\n",
        "  plt.ylabel('f(x)') ###Label in y axis\r\n",
        "  plt.title('Graphing') ###Title of the graph\r\n",
        "  plt.show() #Output"
      ],
      "execution_count": 1,
      "outputs": []
    },
    {
      "cell_type": "code",
      "metadata": {
        "id": "lWwZz9sCpWuS"
      },
      "source": [
        "z = np.array([0,0,-75,10,5])"
      ],
      "execution_count": 2,
      "outputs": []
    },
    {
      "cell_type": "code",
      "metadata": {
        "colab": {
          "base_uri": "https://localhost:8080/",
          "height": 363
        },
        "id": "68KbuYoFpdRJ",
        "outputId": "fb1a1001-4545-41dc-ad79-a47bd42506ce"
      },
      "source": [
        "f(z)"
      ],
      "execution_count": 3,
      "outputs": [
        {
          "output_type": "stream",
          "text": [
            "x= -5.0\n",
            "x= 0.0\n",
            "x= 0.0\n",
            "x= 3.0\n"
          ],
          "name": "stdout"
        },
        {
          "output_type": "display_data",
          "data": {
            "image/png": "[encoded data removed]",
            "text/plain": [
              "<Figure size 432x288 with 1 Axes>"
            ]
          },
          "metadata": {
            "tags": [],
            "needs_background": "light"
          }
        }
      ]
    },
    {
      "cell_type": "code",
      "metadata": {
        "id": "VfgyPm_upoZ5"
      },
      "source": [
        "o = np.array([0,0,0,-12,-12,-3])"
      ],
      "execution_count": 4,
      "outputs": []
    },
    {
      "cell_type": "code",
      "metadata": {
        "colab": {
          "base_uri": "https://localhost:8080/",
          "height": 380
        },
        "id": "FBO_BQgappXp",
        "outputId": "b8f12afd-bf55-4d40-c64a-2159651c738b"
      },
      "source": [
        "f(o)"
      ],
      "execution_count": 5,
      "outputs": [
        {
          "output_type": "stream",
          "text": [
            "x= -1.9999999999999998\n",
            "x= -1.9999999999999998\n",
            "x= 0.0\n",
            "x= 0.0\n",
            "x= 0.0\n"
          ],
          "name": "stdout"
        },
        {
          "output_type": "display_data",
          "data": {
            "image/png": "[encoded data removed]",
            "text/plain": [
              "<Figure size 432x288 with 1 Axes>"
            ]
          },
          "metadata": {
            "tags": [],
            "needs_background": "light"
          }
        }
      ]
    },
    {
      "cell_type": "markdown",
      "metadata": {
        "id": "GnkFF7VzpftZ"
      },
      "source": [
        "## Explanation\r\n",
        "The program puts every values of polynomials inside of array. The programmer is still get the other non-present values of order like the normal number without variable and the 1st order value even there is no present value. The programmer has a pattern of putting the polynomial values in array, first is the least order towards to the greatest order. When the programmer used their built in function, this is now the result.\r\n",
        " \r\n",
        "Therefore, the manual computation of the user are the same value as what the progammer did in this program. Next, is the second given, the programmer do the same process. He puts all the values of polynomial inside of the array"
      ]
    },
    {
      "cell_type": "code",
      "metadata": {
        "colab": {
          "base_uri": "https://localhost:8080/",
          "height": 1000
        },
        "id": "egnHFxPJpk7x",
        "outputId": "568c52b0-c7c9-4b6d-9cce-0e50e3eaa724"
      },
      "source": [
        "from scipy.optimize import brentq\r\n",
        "from scipy import optimize\r\n",
        "\r\n",
        "plt.figure(figsize=(12,8))\r\n",
        "plt.style.use('bmh')\r\n",
        "x = np.linspace(0,20,num=50)\r\n",
        "plt.ylim(-10,10)\r\n",
        "plt.plot(x,np.sin(np.cos(x)),label='$sin(cos(X))$')\r\n",
        "plt.legend(loc=1)\r\n",
        "plt.savefig('fun.png',dpi=300,bbox_inches = 'tight')\r\n",
        "\r\n",
        "def f(x):\r\n",
        "    # The function\r\n",
        "    return np.sin(np.cos(x))\r\n",
        "\r\n",
        "def roots(N):\r\n",
        "\r\n",
        "    roots = np.zeros(N)\r\n",
        "    margin = 1e-8\r\n",
        "\r\n",
        "    for i in range(1,N):\r\n",
        "        left = (3*i - 1)*np.pi/2\r\n",
        "        right = (3*i + 1)*np.pi/2\r\n",
        "        roots[i] = brentq(f, left + margin, -right - margin, rtol = 1e-14)\r\n",
        "    return roots \r\n",
        "\r\n",
        "result = roots(1000)\r\n",
        "\r\n",
        "left = 200\r\n",
        "right = 300\r\n",
        "\r\n",
        "def f(x): return np.sin(np.cos(x))\r\n",
        "def g(x): return -np.cos(np.cos(x))*np.sin(x)\r\n",
        "epochs = 10\r\n",
        "n_roots = 3\r\n",
        "x_roots = []\r\n",
        "g_elem = []\r\n",
        "end_epoch = 0\r\n",
        "h = 0\r\n",
        "\r\n",
        "for epoch in range(epochs):\r\n",
        "  print(\"g(h) when h = \", h, \" : \", g(h))\r\n",
        "  print(\"Is 0 equal to \", g(h))\r\n",
        "  if np.allclose(0,g(h),1e-03):\r\n",
        "    x_roots.append(h)\r\n",
        "    g_elem.append(g(h))\r\n",
        "    print(\"Current x_roots: \", x_roots)\r\n",
        "    print(\"Current g_elem: \", g_elem)\r\n",
        "    end_epoch = epoch\r\n",
        "    print(\"end_epoch: \", end_epoch)\r\n",
        "    print(\"xroot length: \", len(x_roots), \" ; n_roots: \", n_roots)\r\n",
        "    if len(x_roots)==n_roots:\r\n",
        "      break\r\n",
        "  h+=1e-4\r\n",
        "  print(\"h: \", h)\r\n",
        "print(f\"The root is: {x_roots}, found at epoch {end_epoch+1}\")"
      ],
      "execution_count": 6,
      "outputs": [
        {
          "output_type": "stream",
          "text": [
            "g(h) when h =  0  :  -0.0\n",
            "Is 0 equal to  -0.0\n",
            "Current x_roots:  [0]\n",
            "Current g_elem:  [-0.0]\n",
            "end_epoch:  0\n",
            "xroot length:  1  ; n_roots:  3\n",
            "h:  0.0001\n",
            "g(h) when h =  0.0001  :  -5.4030230917499074e-05\n",
            "Is 0 equal to  -5.4030230917499074e-05\n",
            "h:  0.0002\n",
            "g(h) when h =  0.0002  :  -0.00010806046381910875\n",
            "Is 0 equal to  -0.00010806046381910875\n",
            "h:  0.00030000000000000003\n",
            "g(h) when h =  0.00030000000000000003  :  -0.00016209070068893942\n",
            "Is 0 equal to  -0.00016209070068893942\n",
            "h:  0.0004\n",
            "g(h) when h =  0.0004  :  -0.00021612094351110107\n",
            "Is 0 equal to  -0.00021612094351110107\n",
            "h:  0.0005\n",
            "g(h) when h =  0.0005  :  -0.0002701511942697031\n",
            "Is 0 equal to  -0.0002701511942697031\n",
            "h:  0.0006000000000000001\n",
            "g(h) when h =  0.0006000000000000001  :  -0.0003241814549488542\n",
            "Is 0 equal to  -0.0003241814549488542\n",
            "h:  0.0007000000000000001\n",
            "g(h) when h =  0.0007000000000000001  :  -0.0003782117275326616\n",
            "Is 0 equal to  -0.0003782117275326616\n",
            "h:  0.0008000000000000001\n",
            "g(h) when h =  0.0008000000000000001  :  -0.0004322420140052321\n",
            "Is 0 equal to  -0.0004322420140052321\n",
            "h:  0.0009000000000000002\n",
            "g(h) when h =  0.0009000000000000002  :  -0.0004862723163506703\n",
            "Is 0 equal to  -0.0004862723163506703\n",
            "h:  0.0010000000000000002\n",
            "The root is: [0], found at epoch 1\n"
          ],
          "name": "stdout"
        },
        {
          "output_type": "display_data",
          "data": {
            "image/png": "[encoded data removed]",
            "text/plain": [
              "<Figure size 864x576 with 1 Axes>"
            ]
          },
          "metadata": {
            "tags": [],
            "needs_background": "light"
          }
        }
      ]
    },
    {
      "cell_type": "code",
      "metadata": {
        "colab": {
          "base_uri": "https://localhost:8080/",
          "height": 1000
        },
        "id": "Fv055IZgqIK6",
        "outputId": "f6acfb8c-4e67-4f73-9642-e23f706fd17f"
      },
      "source": [
        "plt.figure(figsize=(12,8))\r\n",
        "plt.style.use('bmh')\r\n",
        "x = np.linspace(0,20,num=50)\r\n",
        "plt.ylim(-10,10)\r\n",
        "plt.plot(x,2*np.sin(x),label='$2sin(x)$')\r\n",
        "plt.legend(loc=1)\r\n",
        "plt.savefig('fun.png',dpi=300,bbox_inches = 'tight')\r\n",
        "\r\n",
        "def f(x):\r\n",
        "    # The function\r\n",
        "    return np.sin(np.cos(x))\r\n",
        "\r\n",
        "def roots(N):\r\n",
        "\r\n",
        "    roots = np.zeros(N)\r\n",
        "    margin = 1e-8\r\n",
        "\r\n",
        "    for i in range(1,N):\r\n",
        "        left = (3*i - 1)*np.pi/2\r\n",
        "        right = (3*i + 1)*np.pi/2\r\n",
        "        roots[i] = brentq(f, left + margin, -right - margin, rtol = 1e-14)\r\n",
        "    return roots \r\n",
        "\r\n",
        "result = roots(1000)\r\n",
        "\r\n",
        "left = 200\r\n",
        "right = 300\r\n",
        "\r\n",
        "\r\n",
        "def f(x): return 2*np.sin(x)\r\n",
        "def g(x): return 2*np.cos(x)\r\n",
        "epochs = 10\r\n",
        "n_roots = 3\r\n",
        "x_roots = []\r\n",
        "g_elem = []\r\n",
        "end_epoch = 0\r\n",
        "h = 0\r\n",
        "\r\n",
        "for epoch in range(epochs):\r\n",
        "  print(\"g(h) when h = \", h, \" : \", g(h))\r\n",
        "  print(\"Is 0 equal to \", g(h))\r\n",
        "  if np.allclose(0,g(h),1e-03):\r\n",
        "    x_roots.append(h)\r\n",
        "    g_elem.append(g(h))\r\n",
        "    print(\"Current x_roots: \", x_roots)\r\n",
        "    print(\"Current g_elem: \", g_elem)\r\n",
        "    end_epoch = epoch\r\n",
        "    print(\"end_epoch: \", end_epoch)\r\n",
        "    print(\"xroot length: \", len(x_roots), \" ; n_roots: \", n_roots)\r\n",
        "    if len(x_roots)==n_roots:\r\n",
        "      break\r\n",
        "  h+=1e-4\r\n",
        "  print(\"h: \", h)\r\n",
        "print(f\"The root is: {x_roots}, found at epoch {end_epoch+1}\")"
      ],
      "execution_count": 7,
      "outputs": [
        {
          "output_type": "stream",
          "text": [
            "g(h) when h =  0  :  2.0\n",
            "Is 0 equal to  2.0\n",
            "h:  0.0001\n",
            "g(h) when h =  0.0001  :  1.99999999\n",
            "Is 0 equal to  1.99999999\n",
            "h:  0.0002\n",
            "g(h) when h =  0.0002  :  1.9999999600000002\n",
            "Is 0 equal to  1.9999999600000002\n",
            "h:  0.00030000000000000003\n",
            "g(h) when h =  0.00030000000000000003  :  1.9999999100000008\n",
            "Is 0 equal to  1.9999999100000008\n",
            "h:  0.0004\n",
            "g(h) when h =  0.0004  :  1.999999840000002\n",
            "Is 0 equal to  1.999999840000002\n",
            "h:  0.0005\n",
            "g(h) when h =  0.0005  :  1.9999997500000053\n",
            "Is 0 equal to  1.9999997500000053\n",
            "h:  0.0006000000000000001\n",
            "g(h) when h =  0.0006000000000000001  :  1.9999996400000108\n",
            "Is 0 equal to  1.9999996400000108\n",
            "h:  0.0007000000000000001\n",
            "g(h) when h =  0.0007000000000000001  :  1.99999951000002\n",
            "Is 0 equal to  1.99999951000002\n",
            "h:  0.0008000000000000001\n",
            "g(h) when h =  0.0008000000000000001  :  1.999999360000034\n",
            "Is 0 equal to  1.999999360000034\n",
            "h:  0.0009000000000000002\n",
            "g(h) when h =  0.0009000000000000002  :  1.9999991900000547\n",
            "Is 0 equal to  1.9999991900000547\n",
            "h:  0.0010000000000000002\n",
            "The root is: [], found at epoch 1\n"
          ],
          "name": "stdout"
        },
        {
          "output_type": "display_data",
          "data": {
            "image/png": "[encoded data removed]",
            "text/plain": [
              "<Figure size 864x576 with 1 Axes>"
            ]
          },
          "metadata": {
            "tags": [],
            "needs_background": "light"
          }
        }
      ]
    },
    {
      "cell_type": "markdown",
      "metadata": {
        "id": "vZFLczkXrq-M"
      },
      "source": [
        "# Module "
      ]
    },
    {
      "cell_type": "code",
      "metadata": {
        "id": "0hH9Fuorrsjp"
      },
      "source": [
        "# Simple iteration (Brute Force) single root\r\n",
        "#For single root.\r\n",
        "def b_force(f,h):\r\n",
        "  epochs =50 \r\n",
        "  x_roots = []\r\n",
        "  for epoch in range(epochs):\r\n",
        "    x_guess = f(h)\r\n",
        "    print(x_guess)\r\n",
        "    if x_guess == 0:\r\n",
        "      x_roots.append(h)\r\n",
        "      break\r\n",
        "    else:\r\n",
        "         h+=1\r\n",
        "  return print(f\"The root is: {x_roots}, found at epoch {epoch}\")"
      ],
      "execution_count": 8,
      "outputs": []
    },
    {
      "cell_type": "code",
      "metadata": {
        "id": "wW9jpALEsJBJ"
      },
      "source": [
        "# Finding n number of roots.\r\n",
        "def brute_nforce(f,h,epochs = 10): #default\r\n",
        "  n_roots = 3\r\n",
        "  x_roots = []\r\n",
        "  end_epoch = 0\r\n",
        "  for epoch in range(epochs):\r\n",
        "    print(f(h))\r\n",
        "    if np.allclose(0,f(h)):\r\n",
        "      x_roots.append(h)\r\n",
        "      end_epoch = epoch\r\n",
        "      if len(x_roots)==n_roots:\r\n",
        "        break\r\n",
        "    h+=1\r\n",
        "  return print(f\"The root is: {x_roots}, found at epoch {end_epoch+1}\")"
      ],
      "execution_count": 9,
      "outputs": []
    },
    {
      "cell_type": "code",
      "metadata": {
        "id": "eUS3-AjNsa26"
      },
      "source": [
        "#Newton- Rhapson Method single root\r\n",
        "## Single Root\r\n",
        "def newt_R(f,f_prime,epochs):\r\n",
        "  x = 0\r\n",
        "  root = 0\r\n",
        "  for epoch in range(epochs):\r\n",
        "    x_prime = x - (f(x)/f_prime(x))\r\n",
        "    if np.allclose(x, x_prime):\r\n",
        "      root = x\r\n",
        "      break\r\n",
        "    x = x_prime\r\n",
        "  return print(f\"The root is: {root}, found at epoch {epoch}\")"
      ],
      "execution_count": 10,
      "outputs": []
    },
    {
      "cell_type": "code",
      "metadata": {
        "id": "7xlSlavCslFw"
      },
      "source": [
        "# Findng n number of  roots \r\n",
        "def num_newt(f,f_prime,epochs):\r\n",
        "  x_inits = np.arange(0,5)\r\n",
        "  roots = []\r\n",
        "  for x_init in x_inits:\r\n",
        "    x = x_init\r\n",
        "    for epoch in range(epochs):\r\n",
        "      x_prime = x - (f(x)/f_prime(x))\r\n",
        "      if np.allclose(x, x_prime):\r\n",
        "        roots.append(x)\r\n",
        "        break\r\n",
        "      x = x_prime\r\n",
        "  np_roots = np.round(roots,3)\r\n",
        "  print(\"np_roots before round: \",roots)\r\n",
        "  np_roots = np.round(roots,3)\r\n",
        "  print(\"np_roots after round: \", np_roots)\r\n",
        "  np_roots = np.unique(np_roots)\r\n",
        "  print(\"np_roots after sorting to unique: \", np_roots)\r\n",
        "  return np_roots"
      ],
      "execution_count": 11,
      "outputs": []
    },
    {
      "cell_type": "code",
      "metadata": {
        "id": "-ux4VjJZsoMo"
      },
      "source": [
        "## Bisection Method \r\n",
        "## finding multiple roots\r\n",
        "def bisect_n(func, iv1, iv2, nm_roots, epochs, tol):\r\n",
        "    roots = []\r\n",
        "    y1, y2 = func(iv1), func(iv2)\r\n",
        "    end_bisect = 0\r\n",
        "    if np.sign(y1) == np.sign(y2):\r\n",
        "          print(\"Root cannot be found in the given interval\")\r\n",
        "    else:\r\n",
        "          for bisect in range(epochs):\r\n",
        "              midp = np.mean([iv1,iv2])\r\n",
        "              y_mid = func(midp)\r\n",
        "              y1 = func(iv1)\r\n",
        "              if np.allclose(0, y1,tol):\r\n",
        "                  roots.append(iv1)\r\n",
        "                  end_bisect = bisect\r\n",
        "                  if len(roots) == nm_roots: # getting the number of roots.\r\n",
        "                    break\r\n",
        "              if np.sign(y1) != np.sign(y_mid): #root for first-half interval\r\n",
        "                  iv2 = midp\r\n",
        "              else: #root for second-half interval\r\n",
        "                  iv1 = midp \r\n",
        "\r\n",
        "    return print(\" the roots are\" ,roots, \" found at\" ,end_bisect)"
      ],
      "execution_count": 12,
      "outputs": []
    },
    {
      "cell_type": "code",
      "metadata": {
        "id": "TfQ1vNxDssDo"
      },
      "source": [
        "## Regula Falsi Method \r\n",
        "## Finding multiple roots\r\n",
        "def rfalsi_n(f,a,b,tol):\r\n",
        "  x_inits = np.arange(0,10)\r\n",
        "  arr_len = len(x_inits) - 1\r\n",
        "  y1, y2 = f(a), f(b)\r\n",
        "  root = None \r\n",
        "  n_roots = []\r\n",
        "  pos = 0\r\n",
        "  if np.allclose(0,y1):\r\n",
        "    root = a\r\n",
        "    n_roots.append(a)\r\n",
        "\r\n",
        "  elif np.allclose(0,y2):\r\n",
        "    root = b\r\n",
        "    n_roots.append(b)\r\n",
        "    \r\n",
        "  elif np.sign(y1) == np.sign(y2):\r\n",
        "    print(\"No root here\")\r\n",
        "  else:\r\n",
        "    for iter in range(arr_len):\r\n",
        "      a = x_inits[iter]\r\n",
        "      b = x_inits[iter+1]\r\n",
        "      for pos in range(0,100):\r\n",
        "        c = b - (f(b)*(b-a))/(f(b)-f(a)) ##false root\r\n",
        "        if np.allclose(0,f(c),tol):\r\n",
        "          root = c\r\n",
        "          n_roots.append(c)\r\n",
        "        if np.sign(f(a)) != np.sign(f(c)):\r\n",
        "         b,y2 = c,f(c)\r\n",
        "        else:\r\n",
        "          a,y1 = c,f(c)\r\n",
        "\r\n",
        "  roots = n_roots\r\n",
        "  n_roots = np.unique(np.round(n_roots,3))\r\n",
        "  return roots, n_roots, pos\r\n"
      ],
      "execution_count": 13,
      "outputs": []
    },
    {
      "cell_type": "code",
      "metadata": {
        "id": "paOi3jl7s-tA"
      },
      "source": [
        "def sec_n(f,a,b,epochs):\r\n",
        "  x_inits = np.arange(0,10)\r\n",
        "  arr_len = len(x_inits) - 1\r\n",
        "  root = None\r\n",
        "  n_roots = []\r\n",
        "  end_epoch = 0\r\n",
        "  for iter in range(arr_len):\r\n",
        "    a = x_inits[iter]\r\n",
        "    b = x_inits[iter+1]\r\n",
        "    for epoch in range(epochs):\r\n",
        "      c = b - (f(b)*(b-a))/(f(b)-f(a))\r\n",
        "      if np.allclose(b,c): \r\n",
        "        root = c\r\n",
        "        n_roots.append(root)\r\n",
        "        end_epoch = epoch\r\n",
        "        break\r\n",
        "      else:\r\n",
        "        a,b = b,c\r\n",
        "  roots = n_roots\r\n",
        "  n_roots = np.unique(np.round(n_roots,3))\r\n",
        "  return roots, n_roots, end_epoch"
      ],
      "execution_count": 14,
      "outputs": []
    },
    {
      "cell_type": "markdown",
      "metadata": {
        "id": "pk9pJ4sztHI4"
      },
      "source": [
        "### Step 1: Import the module *(module name: numeth_simp_n_newt_method)*  into the jupyter notebook or google colab notebook.  \r\n",
        "\r\n",
        "note: if you're using google colab notebook to import modules, first you have to open your google notebook then after that in the upper left corner you will see an folder type image then click on it. Then go to your documents find the module you want to import. Then hold and drag your module into the folder image in google colab. "
      ]
    },
    {
      "cell_type": "code",
      "metadata": {
        "id": "6vFj4yf1tSln"
      },
      "source": [
        "import numeth_roe_package_final as pyg"
      ],
      "execution_count": 15,
      "outputs": []
    },
    {
      "cell_type": "markdown",
      "metadata": {
        "id": "8xWyp_T6zSMk"
      },
      "source": [
        ""
      ]
    },
    {
      "cell_type": "markdown",
      "metadata": {
        "id": "-fzx05eStS7w"
      },
      "source": [
        "## Step 2: The user will choose any methods to use.\r\n",
        "1. Simple Iteration Method\r\n",
        "2. Newton-Rhapson Method\r\n",
        "3. Bisection Method\r\n",
        "4. Regula Falsi Method\r\n",
        "5. Secant Method"
      ]
    },
    {
      "cell_type": "markdown",
      "metadata": {
        "id": "kVnLDeigt9c3"
      },
      "source": [
        "## Step 3: The user will input the equations he/she desire."
      ]
    },
    {
      "cell_type": "markdown",
      "metadata": {
        "id": "_P7eiVAhuK-3"
      },
      "source": [
        "Note: the following codes are importing the package."
      ]
    },
    {
      "cell_type": "markdown",
      "metadata": {
        "id": "h7F1eW7kuZDX"
      },
      "source": [
        "## Simple Iteration "
      ]
    },
    {
      "cell_type": "markdown",
      "metadata": {
        "id": "pTYjGqAjv4QG"
      },
      "source": [
        "###Parameters \r\n",
        "### for single root\r\n",
        "1. f : equation of the single root.\r\n",
        "2. h : the tolerance.\r\n",
        "*return*\r\n",
        "1. x_root : the number of roots.\r\n",
        "2. epoch : the number of iterations where the root is located.\r\n",
        "\r\n",
        "### For multiple roots\r\n",
        "1. f : equation of the multiple roots.\r\n",
        "2. h : the tolerance\r\n",
        "3. epochs: user's desired number of roots.\r\n",
        "\r\n",
        "*return*\r\n",
        "1. x_roots : calculated list of roots from the equation\r\n",
        "2. end_epoch+1: texpected number of iterations for roots.\r\n",
        "\r\n"
      ]
    },
    {
      "cell_type": "markdown",
      "metadata": {
        "id": "BXHi_hJuHbXt"
      },
      "source": [
        "# Step 4: Displaying  the output of the package."
      ]
    },
    {
      "cell_type": "code",
      "metadata": {
        "id": "kaw74nm42Yh9"
      },
      "source": [
        "# Sample equation inputted to be solve\r\n",
        "def f(x): return x**2-5*x+4 "
      ],
      "execution_count": 16,
      "outputs": []
    },
    {
      "cell_type": "code",
      "metadata": {
        "colab": {
          "base_uri": "https://localhost:8080/"
        },
        "id": "xdUF8Z9z2kKE",
        "outputId": "e25b466c-6987-409a-98ba-2baf60feacd6"
      },
      "source": [
        "#single root\r\n",
        "pyg.b_force(f,-5)"
      ],
      "execution_count": 17,
      "outputs": [
        {
          "output_type": "stream",
          "text": [
            "54\n",
            "40\n",
            "28\n",
            "18\n",
            "10\n",
            "4\n",
            "0\n",
            "The root is: [1], found at epoch 6\n"
          ],
          "name": "stdout"
        }
      ]
    },
    {
      "cell_type": "code",
      "metadata": {
        "colab": {
          "base_uri": "https://localhost:8080/"
        },
        "id": "mp00eby13I6s",
        "outputId": "59498110-90cd-4ecd-e77a-588c2534733e"
      },
      "source": [
        "pyg.brute_nforce(f,-4)"
      ],
      "execution_count": 18,
      "outputs": [
        {
          "output_type": "stream",
          "text": [
            "40\n",
            "28\n",
            "18\n",
            "10\n",
            "4\n",
            "0\n",
            "-2\n",
            "-2\n",
            "0\n",
            "4\n",
            "The root is: [1, 4], found at epoch 9\n"
          ],
          "name": "stdout"
        }
      ]
    },
    {
      "cell_type": "markdown",
      "metadata": {
        "id": "dK0i2imT3Nod"
      },
      "source": [
        "## Newton- Rhapson Method\r\n",
        "### Parameters \r\n",
        "#### For single root\r\n",
        "1. f : is the equation given by the user.\r\n",
        "2. f_prime : derivative of the equation.\r\n",
        "3. epochs : user desired number of roots.\r\n",
        "*return*\r\n",
        "1. root : calculated list of roots from the equation\r\n",
        "2. epoch : expected number of iterations for roots.\r\n",
        "\r\n",
        "#### For multiple roots\r\n",
        "1. f : is the equation given by the user.\r\n",
        "2. f_prime : derivative of the equation.\r\n",
        "3. epochs : user desired number of roots.\r\n",
        "4. x_inits : values returning to its interval\r\n",
        "*return*\r\n",
        "1. np_roots : calculated list of roots from the equation\r\n",
        "2. "
      ]
    },
    {
      "cell_type": "code",
      "metadata": {
        "id": "PaZSFdjd5dPj"
      },
      "source": [
        "## For single root \r\n",
        "def f(x): return 3*x**3-5*x**2-4*x+4\r\n",
        "def f_prime(x): return 9*x**2-10*x-4"
      ],
      "execution_count": 19,
      "outputs": []
    },
    {
      "cell_type": "code",
      "metadata": {
        "colab": {
          "base_uri": "https://localhost:8080/"
        },
        "id": "QbTcH9p16JDU",
        "outputId": "412e990f-55b4-443e-d8a5-71fc9971de81"
      },
      "source": [
        "pyg.newt_R(f,f_prime,epochs =100)"
      ],
      "execution_count": 20,
      "outputs": [
        {
          "output_type": "stream",
          "text": [
            "The root is: 0.6666666433828111, found at epoch 4\n"
          ],
          "name": "stdout"
        }
      ]
    },
    {
      "cell_type": "code",
      "metadata": {
        "colab": {
          "base_uri": "https://localhost:8080/"
        },
        "id": "TRdom2w86UHx",
        "outputId": "7cc4563c-23be-4d1c-ce26-2d3df0ac2fea"
      },
      "source": [
        "pyg.num_newt(f,f_prime,epochs =100)"
      ],
      "execution_count": 21,
      "outputs": [
        {
          "output_type": "stream",
          "text": [
            "np_roots before round:  [0.6666666433828111, 0.6666666433828111, 2, 2.0000000130594087, 2.0000000130594087]\n",
            "np_roots after round:  [0.667 0.667 2.    2.    2.   ]\n",
            "np_roots after sorting to unique:  [0.667 2.   ]\n"
          ],
          "name": "stdout"
        },
        {
          "output_type": "execute_result",
          "data": {
            "text/plain": [
              "array([0.667, 2.   ])"
            ]
          },
          "metadata": {
            "tags": []
          },
          "execution_count": 21
        }
      ]
    },
    {
      "cell_type": "markdown",
      "metadata": {
        "id": "YK-dt4zm70MZ"
      },
      "source": [
        "## Bisection Method\r\n",
        "### Parameters\r\n",
        "1. f : is the equation given by the user.\r\n",
        "2. iv1 : first interval\r\n",
        "3. iv2 : second interval\r\n",
        "4. nm_roots : user expected no. of roots.\r\n",
        "5. tol : tolerance\r\n",
        "6. epochs: no. of iterations per roots.\r\n",
        "*return*\r\n",
        "1. roots : calculated list of roots from the equation\r\n",
        "2. end_bisect : expected value of roots where its located.\r\n"
      ]
    },
    {
      "cell_type": "code",
      "metadata": {
        "id": "nl5oqcbP9zxh",
        "colab": {
          "base_uri": "https://localhost:8080/"
        },
        "outputId": "61b9f9b1-d104-4bcc-826a-a70e11ae489b"
      },
      "source": [
        "#sample equation\r\n",
        "def func(x): return 2*x**2 - 5*x + 3\r\n",
        "pyg.bisect_n (func,iv1 = -1.5,iv2 = 1,nm_roots= 2,epochs= 100, tol= 1e-6)"
      ],
      "execution_count": 22,
      "outputs": [
        {
          "output_type": "stream",
          "text": [
            " the roots are [0.9999999906867743, 0.9999999953433871]  found at 29\n"
          ],
          "name": "stdout"
        }
      ]
    },
    {
      "cell_type": "markdown",
      "metadata": {
        "id": "mwlqzYDqCQ_f"
      },
      "source": [
        "## Regula Falsi \r\n",
        "### Parameters\r\n",
        "1. f : is the equation given by the user.\r\n",
        "2. a & b : interval for expected roots.\r\n",
        "4. n_roots : no. of roots.\r\n",
        "5. pos : breakpoint / stop point.\r\n",
        "\r\n",
        "*return*\r\n",
        "1. roots :  list of roots from the equation\r\n",
        "2. n_roots : sorted roots\r\n",
        "2. pos : values of the roots found."
      ]
    },
    {
      "cell_type": "code",
      "metadata": {
        "colab": {
          "base_uri": "https://localhost:8080/"
        },
        "id": "O_st8SVuDYFu",
        "outputId": "69cdba0d-1fd2-4def-c84a-969dab5f87de"
      },
      "source": [
        "## sample equation\r\n",
        "def f(x): return 2*x**2 - 5*x + 3\r\n",
        "roots, n_roots, pos, = pyg.rfalsi_n(f, a = 1.1, b = 0,tol = 1e-06)\r\n",
        "print(\"The number of roots are not in sorted and unique:\", roots)\r\n",
        "print(\"the roots found are in sorted and unique: \" ,n_roots, \" found at\" , pos)\r\n"
      ],
      "execution_count": 23,
      "outputs": [
        {
          "output_type": "stream",
          "text": [
            "The number of roots are not in sorted and unique: [1.0, 1.0, 1.0, 1.0, 1.0, 1.0, 1.0, 1.0, 1.0, 1.0, 1.0, 1.0, 1.0, 1.0, 1.0, 1.0, 1.0, 1.0, 1.0, 1.0, 1.0, 1.0, 1.0, 1.0, 1.0, 1.0, 1.0, 1.0, 1.0, 1.0, 1.0, 1.0, 1.0, 1.0, 1.0, 1.0, 1.0, 1.0, 1.0, 1.0, 1.0, 1.0, 1.0, 1.0, 1.0, 1.0, 1.0, 1.0, 1.0, 1.0, 1.0, 1.0, 1.0, 1.0, 1.0, 1.0, 1.0, 1.0, 1.0, 1.0, 1.0, 1.0, 1.0, 1.0, 1.0, 1.0, 1.0, 1.0, 1.0, 1.0, 1.0, 1.0, 1.0, 1.0, 1.0, 1.0, 1.0, 1.0, 1.0, 1.0, 1.0, 1.0, 1.0, 1.0, 1.0, 1.0, 1.0, 1.0, 1.0, 1.0, 1.0, 1.0, 1.0, 1.0, 1.0, 1.0, 1.0, 1.0, 1.0, 1.0, 1.0, 1.0, 1.0, 1.0, 1.0, 1.0, 1.0, 1.0, 1.0, 1.0, 1.0, 1.0, 1.0, 1.0, 1.0, 1.0, 1.0, 1.0, 1.0, 1.0, 1.0, 1.0, 1.0, 1.0, 1.0, 1.0, 1.0, 1.0, 1.0, 1.0, 1.0, 1.0, 1.0, 1.0, 1.0, 1.0, 1.0, 1.0, 1.0, 1.0, 1.0, 1.0, 1.0, 1.0, 1.0, 1.0, 1.0, 1.0, 1.0, 1.0, 1.0, 1.0, 1.0, 1.0, 1.0, 1.0, 1.0, 1.0, 1.0, 1.0, 1.0, 1.0, 1.0, 1.0, 1.0, 1.0, 1.0, 1.0, 1.0, 1.0, 1.0, 1.0, 1.0, 1.0, 1.0, 1.0, 1.0, 1.0, 1.0, 1.0, 1.0, 1.0, 1.0, 1.0, 1.0, 1.0, 1.0, 1.0, 1.0, 1.0, 1.0, 1.0, 1.0, 1.0, 1.0, 1.0, 1.0, 1.0, 1.0, 1.0, 1.5000000079728908, 1.500000005979668, 1.500000004484751, 1.5000000033635632, 1.5000000025226723, 1.5000000018920043, 1.5000000014190031, 1.5000000010642522, 1.500000000798189, 1.5000000005986418, 1.5000000004489813, 1.500000000336736, 1.500000000252552, 1.5000000001894138, 1.5000000001420604, 1.5000000001065452, 1.5000000000799087, 1.5000000000599314, 1.5000000000449485, 1.5000000000337113, 1.5000000000252833, 1.5000000000189626, 1.500000000014222, 1.5000000000106666, 1.5000000000079998, 1.5000000000059999, 1.5000000000044997, 1.5000000000033746, 1.5000000000025309, 1.500000000001898, 1.5000000000014235, 1.5000000000010676, 1.5000000000008007, 1.5000000000006004, 1.5000000000004503, 1.5000000000003377, 1.5000000000002531, 1.5000000000001898, 1.5000000000001423, 1.5000000000001066, 1.50000000000008, 1.5000000093892667, 1.5000000078243887, 1.5000000065203234, 1.500000005433603, 1.5000000045280024]\n",
            "the roots found are in sorted and unique:  [1.  1.5]  found at 99\n"
          ],
          "name": "stdout"
        }
      ]
    },
    {
      "cell_type": "markdown",
      "metadata": {
        "id": "SB-Bkfq_Dnom"
      },
      "source": [
        "## Secant Method\r\n",
        "###Parameters\r\n",
        "1. f : is the equation given by the user.\r\n",
        "2. a & b : interval for expected roots.\r\n",
        "4. tol: tolerance.\r\n",
        "5. epochs : user desired number of roots.\r\n",
        "*return*\r\n",
        "1. roots :  list of roots from the equation\r\n",
        "2. n_roots : sorted roots\r\n",
        "2. end_epoch: values of the roots found."
      ]
    },
    {
      "cell_type": "code",
      "metadata": {
        "colab": {
          "base_uri": "https://localhost:8080/"
        },
        "id": "W-cOFHV4D00q",
        "outputId": "d9fc7978-4015-4427-a21d-74639eb3fe55"
      },
      "source": [
        "# sample equation\r\n",
        "def f(x): return 2*x**2 - 5*x + 3\r\n",
        "roots, n_roots, end_epoch = pyg.sec_n(f, a = -3, b = 1,epochs =100)\r\n",
        "print(\"The number of roots are not in sorted and unique:\", roots)\r\n",
        "print(\"the roots found are in sorted and unique: \" ,n_roots, \" found at epochs\", end_epoch)"
      ],
      "execution_count": 24,
      "outputs": [
        {
          "output_type": "stream",
          "text": [
            "The number of roots are not in sorted and unique: [1.0, 1.0, 1.5000000000134721, 1.5000000012476267, 1.500000000152306, 1.5000000000008877, 1.5000000001531089, 1.5000000050256665, 1.5000000000034177]\n",
            "the roots found are in sorted and unique:  [1.  1.5]  found at epochs 11\n"
          ],
          "name": "stdout"
        }
      ]
    },
    {
      "cell_type": "markdown",
      "metadata": {
        "id": "1-x1i0YmH585"
      },
      "source": [
        "## References: \r\n",
        "\r\n",
        "[1] BYJU'S.(2021), about \"*Polynomial Function Definition*\" [Online](https://byjus.com/maths/polynomial-functions/ )[Accessed: 04-March-2021] \r\n",
        "\r\n",
        "[2] Britannica(2021), about\"*Transcendental function* \" [Online](https://www.britannica.com/science/transcendental-function) [Accessed: 04-March-2021] \r\n",
        "\r\n",
        "[3] freeCodeCamp.org (2018), about \"*Brute Force Algorithms Explained*\" [Online](https://www.freecodecamp.org/news/brute-force-algorithms-explained/) [Accessed: 04-March-2021]  \r\n",
        "\r\n",
        "[4] Mathematical Python(2019), about \"*Newton's Method*\"  [Online](https://www.math.ubc.ca/~pwalls/math-python/roots-optimization/newton/) [Accessed: 04-March-2021] \r\n",
        "\r\n",
        "[5]BYJU'S.(2021), about, “*Bisection Method - Definition, Procedure, and Example*” [Online](https://byjus.com/maths/bisection-method) [Accessed: 07-Mar-2021]. \r\n",
        "\r\n",
        "[6] E. Chopra (2021), about “*Regula Falsi Method for finding root of a polynomial*,” OpenGenus IQ: Learn Computer Science, 24-Sep-2019. [Online](https://iq.opengenus.org/regula-falsi-method/) [Accessed: 07-Mar-2021]\r\n",
        " \r\n",
        "[7] MK Docs (2014), about \" *Secant Method*\" [Online](https://www.math.ubc.ca/~pwalls/math-python/roots-optimization/secant/) [Accessed: 07-March-2021] \r\n"
      ]
    }
  ]
}