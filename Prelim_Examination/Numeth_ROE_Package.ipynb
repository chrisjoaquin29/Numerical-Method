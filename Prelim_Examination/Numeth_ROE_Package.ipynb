{
  "nbformat": 4,
  "nbformat_minor": 0,
  "metadata": {
    "colab": {
      "name": "Numeth_ROE_Package",
      "provenance": [],
      "collapsed_sections": []
    },
    "kernelspec": {
      "name": "python3",
      "display_name": "Python 3"
    }
  },
  "cells": [
    {
      "cell_type": "code",
      "metadata": {
        "id": "I3oTXybg0k1O"
      },
      "source": [
        "import numpy as np\r\n",
        "import matplotlib.pyplot as plt"
      ],
      "execution_count": 1,
      "outputs": []
    },
    {
      "cell_type": "code",
      "metadata": {
        "id": "6mNP_PwSutA2"
      },
      "source": [
        "# Simple iteration (Brute Force) single root\r\n",
        "#For single root.\r\n",
        "def b_force(f,h):\r\n",
        "  epochs =50 \r\n",
        "  x_roots = []\r\n",
        "  for epoch in range(epochs):\r\n",
        "    x_guess = f(h)\r\n",
        "    print(x_guess)\r\n",
        "    if x_guess == 0:\r\n",
        "      x_roots.append(h)\r\n",
        "      break\r\n",
        "    else:\r\n",
        "         h+=1\r\n",
        "  return print(f\"The root is: {x_roots}, found at epoch {epoch}\")"
      ],
      "execution_count": 2,
      "outputs": []
    },
    {
      "cell_type": "code",
      "metadata": {
        "id": "cUJooo5Du2Pw"
      },
      "source": [
        "# Finding n number of roots.\r\n",
        "def brute_nforce(f,h,epochs = 10): #default\r\n",
        "  n_roots = 3\r\n",
        "  x_roots = []\r\n",
        "  end_epoch = 0\r\n",
        "  for epoch in range(epochs):\r\n",
        "    print(f(h))\r\n",
        "    if np.allclose(0,f(h)):\r\n",
        "      x_roots.append(h)\r\n",
        "      end_epoch = epoch\r\n",
        "      if len(x_roots)==n_roots:\r\n",
        "        break\r\n",
        "    h+=1\r\n",
        "  return print(f\"The root is: {x_roots}, found at epoch {end_epoch+1}\")"
      ],
      "execution_count": 3,
      "outputs": []
    },
    {
      "cell_type": "code",
      "metadata": {
        "id": "QsyXuI2zu47m"
      },
      "source": [
        "#Newton- Rhapson Method single root\r\n",
        "## Single Root\r\n",
        "def newt_R(f,f_prime,epochs):\r\n",
        "  x = 0\r\n",
        "  root = 0\r\n",
        "  for epoch in range(epochs):\r\n",
        "    x_prime = x - (f(x)/f_prime(x))\r\n",
        "    if np.allclose(x, x_prime):\r\n",
        "      root = x\r\n",
        "      break\r\n",
        "    x = x_prime\r\n",
        "  return print(f\"The root is: {root}, found at epoch {epoch}\")"
      ],
      "execution_count": 4,
      "outputs": []
    },
    {
      "cell_type": "code",
      "metadata": {
        "id": "IC_sYP7Su86W"
      },
      "source": [
        "# Findng n number of  roots \r\n",
        "def num_newt(f,f_prime,epochs):\r\n",
        "  x_inits = np.arange(0,5)\r\n",
        "  roots = []\r\n",
        "  for x_init in x_inits:\r\n",
        "    x = x_init\r\n",
        "    for epoch in range(epochs):\r\n",
        "      x_prime = x - (f(x)/f_prime(x))\r\n",
        "      if np.allclose(x, x_prime):\r\n",
        "        roots.append(x)\r\n",
        "        break\r\n",
        "      x = x_prime\r\n",
        "  np_roots = np.round(roots,3)\r\n",
        "  print(\"np_roots before round: \",roots)\r\n",
        "  np_roots = np.round(roots,3)\r\n",
        "  print(\"np_roots after round: \", np_roots)\r\n",
        "  np_roots = np.unique(np_roots)\r\n",
        "  print(\"np_roots after sorting to unique: \", np_roots)\r\n",
        "  return np_roots"
      ],
      "execution_count": 5,
      "outputs": []
    },
    {
      "cell_type": "code",
      "metadata": {
        "id": "0UvHrUn9vBAO"
      },
      "source": [
        "def bisect_n(func, iv1, iv2, nm_roots, epochs, tol):\r\n",
        "    roots = []\r\n",
        "    y1, y2 = func(iv1), func(iv2)\r\n",
        "    end_bisect = 0\r\n",
        "    if np.sign(y1) == np.sign(y2):\r\n",
        "          print(\"Root cannot be found in the given interval\")\r\n",
        "    else:\r\n",
        "          for bisect in range(epochs):\r\n",
        "              midp = np.mean([iv1,iv2])\r\n",
        "              y_mid = func(midp)\r\n",
        "              y1 = func(iv1)\r\n",
        "              if np.allclose(0, y1,tol):\r\n",
        "                  roots.append(iv1)\r\n",
        "                  end_bisect = bisect\r\n",
        "                  if len(roots) == nm_roots: # getting the number of roots.\r\n",
        "                    break\r\n",
        "              if np.sign(y1) != np.sign(y_mid): #root for first-half interval\r\n",
        "                  iv2 = midp\r\n",
        "              else: #root for second-half interval\r\n",
        "                  iv1 = midp \r\n",
        "\r\n",
        "    return print(\" the roots are\" ,roots, \" found at\" ,end_bisect)"
      ],
      "execution_count": 6,
      "outputs": []
    },
    {
      "cell_type": "code",
      "metadata": {
        "id": "La5_8T07vB1H"
      },
      "source": [
        "## Regula Falsi Method \r\n",
        "## Finding multiple roots\r\n",
        "def rfalsi_n(f,a,b,tol):\r\n",
        "  x_inits = np.arange(0,10)\r\n",
        "  arr_len = len(x_inits) - 1\r\n",
        "  y1, y2 = f(a), f(b)\r\n",
        "  root = None \r\n",
        "  n_roots = []\r\n",
        "  pos = 0\r\n",
        "  if np.allclose(0,y1):\r\n",
        "    root = a\r\n",
        "    n_roots.append(a)\r\n",
        "\r\n",
        "  elif np.allclose(0,y2):\r\n",
        "    root = b\r\n",
        "    n_roots.append(b)\r\n",
        "    \r\n",
        "  elif np.sign(y1) == np.sign(y2):\r\n",
        "    print(\"No root here\")\r\n",
        "  else:\r\n",
        "    for iter in range(arr_len):\r\n",
        "      a = x_inits[iter]\r\n",
        "      b = x_inits[iter+1]\r\n",
        "      for pos in range(0,100):\r\n",
        "        c = b - (f(b)*(b-a))/(f(b)-f(a)) ##false root\r\n",
        "        if np.allclose(0,f(c),tol):\r\n",
        "          root = c\r\n",
        "          n_roots.append(c)\r\n",
        "        if np.sign(f(a)) != np.sign(f(c)):\r\n",
        "         b,y2 = c,f(c)\r\n",
        "        else:\r\n",
        "          a,y1 = c,f(c)\r\n",
        "\r\n",
        "  roots = n_roots\r\n",
        "  n_roots = np.unique(np.round(n_roots,3))\r\n",
        "  return roots, n_roots, pos"
      ],
      "execution_count": 7,
      "outputs": []
    },
    {
      "cell_type": "code",
      "metadata": {
        "id": "gBLERyl9vECm"
      },
      "source": [
        "def sec_n(f,a,b,epochs):\r\n",
        "  x_inits = np.arange(0,10)\r\n",
        "  arr_len = len(x_inits) - 1\r\n",
        "  root = None\r\n",
        "  n_roots = []\r\n",
        "  end_epoch = 0\r\n",
        "  for iter in range(arr_len):\r\n",
        "    a = x_inits[iter]\r\n",
        "    b = x_inits[iter+1]\r\n",
        "    for epoch in range(epochs):\r\n",
        "      c = b - (f(b)*(b-a))/(f(b)-f(a))\r\n",
        "      if np.allclose(b,c): \r\n",
        "        root = c\r\n",
        "        n_roots.append(root)\r\n",
        "        end_epoch = epoch\r\n",
        "        break\r\n",
        "      else:\r\n",
        "        a,b = b,c\r\n",
        "  roots = n_roots\r\n",
        "  n_roots = np.unique(np.round(n_roots,3))\r\n",
        "  return roots, n_roots, end_epoch"
      ],
      "execution_count": 8,
      "outputs": []
    }
  ]
}