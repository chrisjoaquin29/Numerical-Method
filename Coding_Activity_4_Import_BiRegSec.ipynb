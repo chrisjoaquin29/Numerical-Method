{
  "nbformat": 4,
  "nbformat_minor": 0,
  "metadata": {
    "colab": {
      "name": "Import_BiRegSec.ipynb",
      "provenance": [],
      "include_colab_link": true
    },
    "kernelspec": {
      "name": "python3",
      "display_name": "Python 3"
    }
  },
  "cells": [
    {
      "cell_type": "markdown",
      "metadata": {
        "id": "view-in-github",
        "colab_type": "text"
      },
      "source": [
        "<a href=\"https://colab.research.google.com/github/chrisjoaquin29/Numerical-Method/blob/main/Coding_Activity_4_Import_BiRegSec.ipynb\" target=\"_parent\"><img src=\"https://colab.research.google.com/assets/colab-badge.svg\" alt=\"Open In Colab\"/></a>"
      ]
    },
    {
      "cell_type": "code",
      "metadata": {
        "id": "YJszdfuoaUUt"
      },
      "source": [
        "#importing module\r\n",
        "import biregsec as bgs"
      ],
      "execution_count": null,
      "outputs": []
    },
    {
      "cell_type": "markdown",
      "metadata": {
        "id": "-iqdmMz8aEnm"
      },
      "source": [
        "# Bisection Method"
      ]
    },
    {
      "cell_type": "code",
      "metadata": {
        "id": "cTVorITpZ22I"
      },
      "source": [
        "#equation\r\n",
        "def f(x): return 2*x**2 - 5*x + 3"
      ],
      "execution_count": null,
      "outputs": []
    },
    {
      "cell_type": "code",
      "metadata": {
        "colab": {
          "base_uri": "https://localhost:8080/"
        },
        "id": "tPVG3ULnaStN",
        "outputId": "7506315a-c009-45dc-ae44-3e437bf80601"
      },
      "source": [
        "#testing the bisection method module\r\n",
        "bgs.bisec_n(f, iv1 = -1.5, iv2 = 1, nm_roots = 2 ,epochs = 50, tol= 1e-6)"
      ],
      "execution_count": null,
      "outputs": [
        {
          "output_type": "stream",
          "text": [
            " the roots are [0.9999999906867743, 0.9999999953433871]  found at 29\n"
          ],
          "name": "stdout"
        }
      ]
    },
    {
      "cell_type": "markdown",
      "metadata": {
        "id": "f8o06nmGbxxL"
      },
      "source": [
        "## Regula Falsi"
      ]
    },
    {
      "cell_type": "code",
      "metadata": {
        "id": "2Xdb-s-fa8Eu"
      },
      "source": [
        "func = lambda x: x**3 - x - 1\r\n",
        "a = 1\r\n",
        "b = 5\r\n",
        "x = secant(func, a, b, tol = 1e-20, maxit=100)\r\n",
        "print(\"Solution of 1st equation: x = {}, f(x) = {}\".format(x, func(x)))"
      ],
      "execution_count": null,
      "outputs": []
    },
    {
      "cell_type": "code",
      "metadata": {
        "colab": {
          "base_uri": "https://localhost:8080/"
        },
        "id": "IehmyXDwazMe",
        "outputId": "48164815-5400-416e-cb43-ec37837b415c"
      },
      "source": [
        "r = 1.1 \r\n",
        "s = 3\r\n",
        "bgs.rfalsi(r,s)"
      ],
      "execution_count": null,
      "outputs": [
        {
          "output_type": "stream",
          "text": [
            "1.1538461538461537  -0.10650887573964463\n",
            "1.1860465116279069  -0.11681990265008135\n",
            "1.2206896551724138  -0.12328180737217664\n",
            "1.2565130260521045  -0.12491516098328903\n",
            "1.2920707358813464  -0.12146010636480353\n",
            "1.325958936813624  -0.11346047983628793\n",
            "1.3570276748747003  -0.10209015362183127\n",
            "1.3845151902744695  -0.08881132717084661\n",
            "1.408078631850632  -0.07502229230446478\n",
            "1.4277377515148204  -0.06181858337291235\n",
            "1.4437717227654054  -0.04990503891305398\n",
            "1.4566088883462625  -0.03962553451264306\n",
            "1.4667349627877762  -0.03105191181076261\n",
            "1.474629242494572  -0.024083406832629883\n",
            "1.480727452303874  -0.018529685506726956\n",
            "1.485404947303293  -0.014169021570267226\n",
            "1.4889732424235185  -0.010783578811180305\n",
            "1.491684083017342  -0.008177608032132966\n",
            "The root is 1.491684083017342\n"
          ],
          "name": "stdout"
        }
      ]
    },
    {
      "cell_type": "markdown",
      "metadata": {
        "id": "pNE3_oJMbt9c"
      },
      "source": [
        "## Secant Method"
      ]
    },
    {
      "cell_type": "code",
      "metadata": {
        "id": "kzHqMjHbbcPw"
      },
      "source": [
        "def f(x): return x**3 - x - 1"
      ],
      "execution_count": null,
      "outputs": []
    },
    {
      "cell_type": "code",
      "metadata": {
        "colab": {
          "base_uri": "https://localhost:8080/"
        },
        "id": "EemsQ8xMbOjE",
        "outputId": "526628e0-0a3d-4a75-cf21-3ad6a8d9c469"
      },
      "source": [
        "a = 1\r\n",
        "b = 5\r\n",
        "bgs.secant(f,a,b, tol = 1e-20, maxit=100)"
      ],
      "execution_count": null,
      "outputs": [
        {
          "output_type": "execute_result",
          "data": {
            "text/plain": [
              "1.3247176381152717"
            ]
          },
          "metadata": {
            "tags": []
          },
          "execution_count": 10
        }
      ]
    }
  ]
}