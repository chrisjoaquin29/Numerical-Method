{
  "nbformat": 4,
  "nbformat_minor": 0,
  "metadata": {
    "colab": {
      "name": "Numeth_UserManual_final_na.ipynb",
      "provenance": [],
      "collapsed_sections": []
    },
    "kernelspec": {
      "display_name": "Python 3",
      "language": "python",
      "name": "python3"
    },
    "language_info": {
      "codemirror_mode": {
        "name": "ipython",
        "version": 3
      },
      "file_extension": ".py",
      "mimetype": "text/x-python",
      "name": "python",
      "nbconvert_exporter": "python",
      "pygments_lexer": "ipython3",
      "version": "3.8.3"
    }
  },
  "cells": [
    {
      "cell_type": "markdown",
      "metadata": {
        "id": "AlG0hB26AR0y"
      },
      "source": [
        "# User Manual: How To Use Package and Module\n",
        "### Finding roots of Polynomial\n",
        "### Simple Iteration and Newton-Rhapson Method\n",
        "\n",
        "*submitted by:*\n",
        "\n",
        "Aquiro, Freddielyn E.\n",
        "\n",
        "Canoza, Cherrylyn\n",
        "\n",
        "Joaquin, Christopher Marc "
      ]
    },
    {
      "cell_type": "markdown",
      "metadata": {
        "id": "Fr69QxhIBKqm"
      },
      "source": [
        "####Note: \n",
        " This user manual will be used to understand on how to use the module and implement it into package. The modules contains functions on how to find a single root and n number of roots. The user will provide a equation in getting the results.\n"
      ]
    },
    {
      "cell_type": "markdown",
      "metadata": {
        "id": "IF6m7ABkCMLJ"
      },
      "source": [
        "### Step 1: Import the module *(module name: numeth_simp_n_newt_method)*  into the jupyter notebook or google colab notebook.  \n",
        "\n",
        "note: if you're using google colab notebook to import modules, first you have to open your google notebook then after that in the upper left corner you will see an folder type image then click on it. Then go to your documents find the module you want to import. Then hold and drag your module into the folder image in google colab. "
      ]
    },
    {
      "cell_type": "code",
      "metadata": {
        "id": "EuHZO8qrCzzH"
      },
      "source": [
        "import numeth_final_na as smp_newt\n",
        "# importing the module"
      ],
      "execution_count": 1,
      "outputs": []
    },
    {
      "cell_type": "markdown",
      "metadata": {
        "id": "crmIMQKfCsFp"
      },
      "source": [
        "## Step 2: Define an equation that you desire."
      ]
    },
    {
      "cell_type": "code",
      "metadata": {
        "id": "lGFL-vBtEnqu"
      },
      "source": [
        "#Sample equation for Single root and n roots of Simple iteration.\n",
        "def f(x): return x**2-5*x+4 \n",
        "# Sample equation for Single root and n roots of Newton-Rhapson Method\n",
        "def f(x): return 3*x**3-5*x**2-4*x+4\n",
        "def f_prime(x): return 9*x**2-10*x-4"
      ],
      "execution_count": 2,
      "outputs": []
    },
    {
      "cell_type": "markdown",
      "metadata": {
        "id": "cRzweU0jFC5w"
      },
      "source": [
        "## Step 3: Choose any of the two methods for finding its roots. \n",
        "*   Finding Roots of Polynomials\n",
        "*   Simple Iteration Method\n",
        "*   Newton-Rhapson Method\n",
        "*   Regula Falsi Method\n"
      ]
    },
    {
      "cell_type": "markdown",
      "metadata": {
        "id": "LgApk-8dFeA3"
      },
      "source": [
        "## Step 4: If you already choose one, provide the required parameters that you wish in finding its root/s."
      ]
    },
    {
      "cell_type": "markdown",
      "metadata": {
        "id": "26XhPIRDyOjq"
      },
      "source": [
        "### Finding Roots of Polynomials\n",
        "A polynomial function is a function that can be expressed in the form of a polynomial.[[1]](https://byjus.com/maths/polynomial-functions/) Every value given in its function has a corresponding degree, which so-called *order*. The target of this program is to find the roots even there are tons of given value in a polynomial function. Thus, the programmer will give two examples in with different orders: <br>\n",
        "First given: $$F(x)=5x^4+10x^3-75x^2$$ <br>\n",
        "Second given: $$F(x)=-3x^5-12x^4-12x^3$$ <br>"
      ]
    },
    {
      "cell_type": "markdown",
      "metadata": {
        "id": "exT-TY_uyOjr"
      },
      "source": [
        "The formula that the progammer will provide is factorization.\n",
        "1. Get the GCF. <br>\n",
        "2. Factor out. <br>\n",
        "3. Transposition <br>\n",
        "\n",
        "Now, if the user will solve manually the first given example, the roots are x = -5 and x = 3. With this function, the user can check and plot if the user has already found out the roots. "
      ]
    },
    {
      "cell_type": "code",
      "metadata": {
        "id": "qdgnl0x2yOjr"
      },
      "source": [
        "#Function for finding roots in Polynomials.\n",
        "import numpy as np\n",
        "from numpy.polynomial import Polynomial as npoly\n",
        "import matplotlib.pyplot as plt \n",
        "\n",
        "def f(x):\n",
        "  for i in range(len(x)): ###Getting the list given by the user.\n",
        "    x[i] = float(x[i]) #For calling purposes\n",
        "  p=npoly(x) ###Finding coefficients with the given roots.\n",
        "  xzeros=p.roots() ### return the roots of a polynomial with coefficients given.\n",
        "  for i in range (len(xzeros)): ###Getting all the roots.\n",
        "    print(\"x=\",xzeros[i]) ###Printing roots.\n",
        "###Graphing\n",
        "  x=np.linspace(xzeros[0]-1,xzeros[-1]+1,100) ###for locating the value in x axis\n",
        "  y=p(x) ###for locating the value in y axis\n",
        "  fig, ax=plt.subplots() ###Creating Figures\n",
        "  ax.plot(x,y,'r', label= 'f(x)') ###For plotting\n",
        "  ax.plot(xzeros,p(xzeros),'go', label='Roots') ###For plotting\n",
        "  ax.legend(loc='best') ### for legend\n",
        "  ax.grid()\n",
        "  plt.xlabel('x') ###Label in x axis\n",
        "  plt.ylabel('f(x)') ###Label in y axis\n",
        "  plt.title('Graphing') ###Title of the graph\n",
        "  plt.show() #Output"
      ],
      "execution_count": 3,
      "outputs": []
    },
    {
      "cell_type": "code",
      "metadata": {
        "id": "Fog_GInXyOjr"
      },
      "source": [
        "z = np.array([0,0,-75,10,5])"
      ],
      "execution_count": 4,
      "outputs": []
    },
    {
      "cell_type": "markdown",
      "metadata": {
        "id": "zFLje00NyOjs"
      },
      "source": [
        "The program puts every values of polynomials inside of array. The programmer is still get the other non-present values of order like the normal number without variable and the 1st order value even there is no present value. The programmer has a pattern of putting the polynomial values in array, first is the least order towards to the greatest order. When the programmer used their built in function, this is now the result. "
      ]
    },
    {
      "cell_type": "code",
      "metadata": {
        "id": "cwR7rhrNyOjs",
        "colab": {
          "base_uri": "https://localhost:8080/",
          "height": 367
        },
        "outputId": "36023465-4869-4fb6-e03a-83230bf262e4"
      },
      "source": [
        "f(z)"
      ],
      "execution_count": 5,
      "outputs": [
        {
          "output_type": "stream",
          "text": [
            "x= -5.0\n",
            "x= 0.0\n",
            "x= 0.0\n",
            "x= 3.0\n"
          ],
          "name": "stdout"
        },
        {
          "output_type": "display_data",
          "data": {
            "image/png": "[encoded data removed]",
            "text/plain": [
              "<Figure size 432x288 with 1 Axes>"
            ]
          },
          "metadata": {
            "tags": [],
            "needs_background": "light"
          }
        }
      ]
    },
    {
      "cell_type": "markdown",
      "metadata": {
        "id": "b4iCAoAPyOjt"
      },
      "source": [
        "Therefore, the manual computation of the user are the same value as what the progammer did in this program. Next, is the second given, the programmer do the same process. He puts all the values of polynomial inside of the array. "
      ]
    },
    {
      "cell_type": "code",
      "metadata": {
        "id": "lf8WCvZQyOjt"
      },
      "source": [
        "o = np.array([0,0,0,-12,-12,-3])"
      ],
      "execution_count": 6,
      "outputs": []
    },
    {
      "cell_type": "code",
      "metadata": {
        "id": "imaP9BEdyOjt",
        "colab": {
          "base_uri": "https://localhost:8080/",
          "height": 385
        },
        "outputId": "3779b72f-ab49-4648-d895-ac89d6d5dcfc"
      },
      "source": [
        "f(o)"
      ],
      "execution_count": 7,
      "outputs": [
        {
          "output_type": "stream",
          "text": [
            "x= -1.9999999999999998\n",
            "x= -1.9999999999999998\n",
            "x= 0.0\n",
            "x= 0.0\n",
            "x= 0.0\n"
          ],
          "name": "stdout"
        },
        {
          "output_type": "display_data",
          "data": {
            "image/png": "[encoded data removed]",
            "text/plain": [
              "<Figure size 432x288 with 1 Axes>"
            ]
          },
          "metadata": {
            "tags": [],
            "needs_background": "light"
          }
        }
      ]
    },
    {
      "cell_type": "markdown",
      "metadata": {
        "id": "9y7FL67lGA2m"
      },
      "source": [
        "### Simple iteration (Brute Force)\n",
        "This method is used as the easiest way to compute the eqaution and it will utlilize iterations or looping statements. Brute force are rarely used because its method are straight-forward in solving equations which it rely on the sheer computing power that tries every possibile answers than advanced techniques in improving its efficiency. [[2]](https://www.freecodecamp.org/news/brute-force-algorithms-explained/ )"
      ]
    },
    {
      "cell_type": "code",
      "metadata": {
        "id": "95kKZ37tLs3r"
      },
      "source": [
        "# The user asked to input its equation which f denotes as its defined equation and h denotes a the intial guess.\n",
        "#for Single root\n",
        "def f(x): return x**2-5*x+4 "
      ],
      "execution_count": 8,
      "outputs": []
    },
    {
      "cell_type": "code",
      "metadata": {
        "colab": {
          "base_uri": "https://localhost:8080/"
        },
        "id": "0Z1mSfCOIAGY",
        "outputId": "27c3b903-13b8-4c0d-ef3e-56a908b858f1"
      },
      "source": [
        "#for Single root\n",
        "smp_newt.b_force(f,-5)"
      ],
      "execution_count": 9,
      "outputs": [
        {
          "output_type": "stream",
          "text": [
            "54\n",
            "40\n",
            "28\n",
            "18\n",
            "10\n",
            "4\n",
            "0\n",
            "The root is: [1], found at epoch 6\n"
          ],
          "name": "stdout"
        }
      ]
    },
    {
      "cell_type": "code",
      "metadata": {
        "colab": {
          "base_uri": "https://localhost:8080/"
        },
        "id": "aFdG6C1HIaXN",
        "outputId": "81ae3442-310c-4cf9-dda7-4001f87fdb56"
      },
      "source": [
        "#for N number of roots\n",
        "smp_newt.brute_nforce(f,-4)"
      ],
      "execution_count": 10,
      "outputs": [
        {
          "output_type": "stream",
          "text": [
            "40\n",
            "28\n",
            "18\n",
            "10\n",
            "4\n",
            "0\n",
            "-2\n",
            "-2\n",
            "0\n",
            "4\n",
            "10\n",
            "18\n",
            "28\n",
            "40\n",
            "54\n",
            "70\n",
            "88\n",
            "108\n",
            "130\n",
            "154\n",
            "180\n",
            "208\n",
            "238\n",
            "270\n",
            "304\n",
            "340\n",
            "378\n",
            "418\n",
            "460\n",
            "504\n",
            "550\n",
            "598\n",
            "648\n",
            "700\n",
            "754\n",
            "810\n",
            "868\n",
            "928\n",
            "990\n",
            "1054\n",
            "1120\n",
            "1188\n",
            "1258\n",
            "1330\n",
            "1404\n",
            "1480\n",
            "1558\n",
            "1638\n",
            "1720\n",
            "1804\n",
            "1890\n",
            "1978\n",
            "2068\n",
            "2160\n",
            "2254\n",
            "2350\n",
            "2448\n",
            "2548\n",
            "2650\n",
            "2754\n",
            "2860\n",
            "2968\n",
            "3078\n",
            "3190\n",
            "3304\n",
            "3420\n",
            "3538\n",
            "3658\n",
            "3780\n",
            "3904\n",
            "4030\n",
            "4158\n",
            "4288\n",
            "4420\n",
            "4554\n",
            "4690\n",
            "4828\n",
            "4968\n",
            "5110\n",
            "5254\n",
            "5400\n",
            "5548\n",
            "5698\n",
            "5850\n",
            "6004\n",
            "6160\n",
            "6318\n",
            "6478\n",
            "6640\n",
            "6804\n",
            "6970\n",
            "7138\n",
            "7308\n",
            "7480\n",
            "7654\n",
            "7830\n",
            "8008\n",
            "8188\n",
            "8370\n",
            "8554\n",
            "The roots are: [1, 4], found at epoch 9\n"
          ],
          "name": "stdout"
        }
      ]
    },
    {
      "cell_type": "markdown",
      "metadata": {
        "id": "q3k5rEbmIvtg"
      },
      "source": [
        "### Newton-Rhapson Method\n",
        "This method is another way in roots finding that uses linear approximation which is similiar to brute force but it it uses an updated functions. [[2]](https://www.math.ubc.ca/~pwalls/math-python/roots-optimization/newton/)\n",
        "\n",
        "This method require the user to give a equation to solve,a initial guess, and the derivative of given equation f is equal to the defined equation,-5 is the initial guess input by the user, and x_p is equal to the declared derivative equation of f"
      ]
    },
    {
      "cell_type": "code",
      "metadata": {
        "id": "qNeijp7xL3B9"
      },
      "source": [
        "# Given f denotes as the defined equation anf f_prime its the declared derivative equation of f since we already have an intial guess in the previous cell.\n",
        "def f(x): return 3*x**3-5*x**2-4*x+4\n",
        "def f_prime(x): return 9*x**2-10*x-4"
      ],
      "execution_count": 11,
      "outputs": []
    },
    {
      "cell_type": "code",
      "metadata": {
        "colab": {
          "base_uri": "https://localhost:8080/"
        },
        "id": "Iem8ORwPKSiA",
        "outputId": "1d713dc8-5c2c-459c-af56-09f2f055ec05"
      },
      "source": [
        "#  Single root\n",
        "smp_newt.newt_R(f,f_prime)"
      ],
      "execution_count": 12,
      "outputs": [
        {
          "output_type": "stream",
          "text": [
            "The root is: 0.6666666433828111, found at epoch 4\n"
          ],
          "name": "stdout"
        }
      ]
    },
    {
      "cell_type": "code",
      "metadata": {
        "id": "3YiWeRH2yazU",
        "colab": {
          "base_uri": "https://localhost:8080/"
        },
        "outputId": "a7f76864-d7f2-4657-d8af-09c8a5ed2ac7"
      },
      "source": [
        "#for N number of roots\r\n",
        "smp_newt.newt_N(f,f_prime)"
      ],
      "execution_count": 13,
      "outputs": [
        {
          "output_type": "stream",
          "text": [
            "Iteration Number:  0\n",
            "x is:  0\n",
            "Epoch:  0\n",
            "x prime is:  1.0\n",
            "x final:  1.0\n",
            "Epoch:  1\n",
            "x prime is:  0.6\n",
            "x final:  0.6\n",
            "Epoch:  2\n",
            "x prime is:  0.6662721893491125\n",
            "x final:  0.6662721893491125\n",
            "Epoch:  3\n",
            "x prime is:  0.6666666433828111\n",
            "x final:  0.6666666433828111\n",
            "Epoch:  4\n",
            "x prime is:  0.6666666666666666\n",
            "roots:  [0.6666666433828111]\n",
            "Iteration Number:  1\n",
            "x is:  1\n",
            "Epoch:  0\n",
            "x prime is:  0.6\n",
            "x final:  0.6\n",
            "Epoch:  1\n",
            "x prime is:  0.6662721893491125\n",
            "x final:  0.6662721893491125\n",
            "Epoch:  2\n",
            "x prime is:  0.6666666433828111\n",
            "x final:  0.6666666433828111\n",
            "Epoch:  3\n",
            "x prime is:  0.6666666666666666\n",
            "roots:  [0.6666666433828111, 0.6666666433828111]\n",
            "Iteration Number:  2\n",
            "x is:  2\n",
            "Epoch:  0\n",
            "x prime is:  2.0\n",
            "roots:  [0.6666666433828111, 0.6666666433828111, 2]\n",
            "Iteration Number:  3\n",
            "x is:  3\n",
            "Epoch:  0\n",
            "x prime is:  2.404255319148936\n",
            "x final:  2.404255319148936\n",
            "Epoch:  1\n",
            "x prime is:  2.105117829566335\n",
            "x final:  2.105117829566335\n",
            "Epoch:  2\n",
            "x prime is:  2.010154451310177\n",
            "x final:  2.010154451310177\n",
            "Epoch:  3\n",
            "x prime is:  2.000109804807441\n",
            "x final:  2.000109804807441\n",
            "Epoch:  4\n",
            "x prime is:  2.0000000130594087\n",
            "x final:  2.0000000130594087\n",
            "Epoch:  5\n",
            "x prime is:  2.0\n",
            "roots:  [0.6666666433828111, 0.6666666433828111, 2, 2.0000000130594087]\n",
            "Iteration Number:  4\n",
            "x is:  4\n",
            "Epoch:  0\n",
            "x prime is:  3.0\n",
            "x final:  3.0\n",
            "Epoch:  1\n",
            "x prime is:  2.404255319148936\n",
            "x final:  2.404255319148936\n",
            "Epoch:  2\n",
            "x prime is:  2.105117829566335\n",
            "x final:  2.105117829566335\n",
            "Epoch:  3\n",
            "x prime is:  2.010154451310177\n",
            "x final:  2.010154451310177\n",
            "Epoch:  4\n",
            "x prime is:  2.000109804807441\n",
            "x final:  2.000109804807441\n",
            "Epoch:  5\n",
            "x prime is:  2.0000000130594087\n",
            "x final:  2.0000000130594087\n",
            "Epoch:  6\n",
            "x prime is:  2.0\n",
            "roots:  [0.6666666433828111, 0.6666666433828111, 2, 2.0000000130594087, 2.0000000130594087]\n",
            "np_roots before round:  [0.6666666433828111, 0.6666666433828111, 2, 2.0000000130594087, 2.0000000130594087]\n",
            "np_roots after round:  [0.667 0.667 2.    2.    2.   ]\n",
            "np_roots after sorting to unique:  [0.667 2.   ]\n"
          ],
          "name": "stdout"
        },
        {
          "output_type": "execute_result",
          "data": {
            "text/plain": [
              "array([0.667, 2.   ])"
            ]
          },
          "metadata": {
            "tags": []
          },
          "execution_count": 13
        }
      ]
    },
    {
      "cell_type": "markdown",
      "metadata": {
        "id": "bEDBq5ovzRbE"
      },
      "source": [
        "### Bisection method"
      ]
    },
    {
      "cell_type": "markdown",
      "metadata": {
        "id": "PHfX32MfWn-j"
      },
      "source": [
        "This method applies the algorithm of any continuos function on an [a,b] intervals. The idea is that to divide the two interval and a solution must exist within one subinterval. [[5]](https://www.math.ubc.ca/~pwalls/math-python/roots-optimization/bisection/)"
      ]
    },
    {
      "cell_type": "markdown",
      "metadata": {
        "id": "SYfRbvMaXn3N"
      },
      "source": [
        "This method requires the user to input a equation to solve its single root, f(x) denotes as the equation. The parameters are i1 and i2 that denotes as the 2 intial guess."
      ]
    },
    {
      "cell_type": "code",
      "metadata": {
        "id": "VfwqJ3z7Y_59"
      },
      "source": [
        "def f(x): return 2*x**2 - 5*x + 3"
      ],
      "execution_count": 14,
      "outputs": []
    },
    {
      "cell_type": "code",
      "metadata": {
        "id": "EaTRG9rizUp9",
        "colab": {
          "base_uri": "https://localhost:8080/"
        },
        "outputId": "f197d627-4668-407d-e2d3-c5d97826adf9"
      },
      "source": [
        "x = 1.1\r\n",
        "y = 2\r\n",
        "smp_newt.bisec(x,y)"
      ],
      "execution_count": 15,
      "outputs": [
        {
          "output_type": "stream",
          "text": [
            "The root is [1.4999999962747097], found at 27 bisections\n"
          ],
          "name": "stdout"
        }
      ]
    },
    {
      "cell_type": "markdown",
      "metadata": {
        "id": "MVk9khb-yOjv"
      },
      "source": [
        "### Regula Falsi Method\n",
        " Regula Falsi Method like Bisection Method is always convergent, meaning that it is always leading towards a definite limit and relatively simple to understandbut there are also some drawbacks when this algorithm is used.[[4]](https://iq.opengenus.org/regula-falsi-method/)\n",
        " \n",
        " Now, the programmer will do for multiple roots. "
      ]
    },
    {
      "cell_type": "code",
      "metadata": {
        "id": "NLvnWfCT1UpT"
      },
      "source": [
        "def f(x): return 2*x**2 - 5*x + 3"
      ],
      "execution_count": 16,
      "outputs": []
    },
    {
      "cell_type": "code",
      "metadata": {
        "colab": {
          "base_uri": "https://localhost:8080/"
        },
        "id": "q6zv4QGWLeUF",
        "outputId": "4931f788-6dea-425b-d355-ad1f29c3b6ab"
      },
      "source": [
        "smp_newt.falsi(1.1,3)"
      ],
      "execution_count": 17,
      "outputs": [
        {
          "output_type": "stream",
          "text": [
            "The root is [1.4999999914859805], found at 66 false position\n"
          ],
          "name": "stdout"
        }
      ]
    },
    {
      "cell_type": "markdown",
      "metadata": {
        "id": "_pEOxBRkyOjw"
      },
      "source": [
        "As the user will notice, it came for only one result and the conclusion by the programmers are it will be only one output because it depends on the precision, plus, as the meaning stated there, it will lead towards to a definite limit. "
      ]
    },
    {
      "cell_type": "markdown",
      "metadata": {
        "id": "qNKn5A8DZHeC"
      },
      "source": [
        "### Secant Method"
      ]
    },
    {
      "cell_type": "markdown",
      "metadata": {
        "id": "WZStlG66ZN5k"
      },
      "source": [
        "The secant method is very similar to the bisection method except instead of dividing each interval by choosing the midpoint the secant method divides each interval by the secant line connecting the endpoints. [[6]](https://www.math.ubc.ca/~pwalls/math-python/roots-optimization/secant/)"
      ]
    },
    {
      "cell_type": "markdown",
      "metadata": {
        "id": "T-PjVBnTZUzD"
      },
      "source": [
        "Now, the programmer will do a program to solve the equation given by the user. This method allows the user to give a equation with two intial guess represents as a and b.\r\n",
        "\r\n"
      ]
    },
    {
      "cell_type": "code",
      "metadata": {
        "id": "BPwazm5WZ0Km"
      },
      "source": [
        "def f(x): return 2*x**2 - 5*x + 3"
      ],
      "execution_count": 18,
      "outputs": []
    },
    {
      "cell_type": "code",
      "metadata": {
        "colab": {
          "base_uri": "https://localhost:8080/"
        },
        "id": "-wpe5CExZ-m8",
        "outputId": "39c68097-d358-47e8-93c3-21e948aee091"
      },
      "source": [
        "g = 0\r\n",
        "h = 1.1\r\n",
        "smp_newt.sec(g,h)"
      ],
      "execution_count": 19,
      "outputs": [
        {
          "output_type": "stream",
          "text": [
            "The root is [1.00000000029071], found at 5 epochs\n"
          ],
          "name": "stdout"
        }
      ]
    }
  ]
}